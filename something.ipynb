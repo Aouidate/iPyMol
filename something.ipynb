{
 "metadata": {
  "name": ""
 },
 "nbformat": 3,
 "nbformat_minor": 0,
 "worksheets": [
  {
   "cells": [
    {
     "cell_type": "code",
     "collapsed": false,
     "input": [
      "from matplotlib import pyplot\n",
      "import numpy as np"
     ],
     "language": "python",
     "metadata": {},
     "outputs": [],
     "prompt_number": 1
    },
    {
     "cell_type": "code",
     "collapsed": false,
     "input": [
      "a = np.genfromtxt('batch.stats',delimiter=',',skip_footer=1)\n",
      "b = np.genfromtxt('sgd.stats',delimiter=',',skip_footer=1)\n",
      "c = np.genfromtxt('mini.stats',delimiter=',',skip_footer=1)\n",
      "with pyplot.xkcd():\n",
      "    ax1 = pyplot.subplot(131)\n",
      "    ax1.set_title('Batch (2.5 seconds)')\n",
      "    ax1.set_ylabel('Cost')\n",
      "    pyplot.plot(map(int,a[:,0]),a[:,1],color='red')\n",
      "    ax2 = subplot(132, sharey=ax1)\n",
      "    ax2.set_title('SGD (37.9 seconds)')\n",
      "    ax2.set_xlabel('iterations')\n",
      "    pyplot.plot(map(int,b[:,0]),b[:,1],color='green')\n",
      "    setp(ax2.get_yticklabels(), visible=False)\n",
      "    ax3 = subplot(133, sharey=ax2)\n",
      "    ax3.set_title('Mini Batch (17.5 seconds)')\n",
      "    pyplot.plot(map(int,c[:,0]),c[:,1],color='blue')\n",
      "    setp(ax3.get_yticklabels(), visible=False)\n",
      "    ax1.set_xlim((-5,70))\n",
      "    ax1.tick_params(axis='both',which='both',bottom='off',top='off',left='off',right='off')\n",
      "    ax2.set_xlim((-200,3000))\n",
      "    ax2.tick_params(axis='both',which='both',bottom='off',top='off',left='off',right='off')\n",
      "    ax3.set_xlim((-100,1300))\n",
      "    ax3.tick_params(axis='both',which='both',bottom='off',top='off',left='off',right='off')\n",
      "\n"
     ],
     "language": "python",
     "metadata": {},
     "outputs": [],
     "prompt_number": 2
    },
    {
     "cell_type": "code",
     "collapsed": false,
     "input": [
      "from SVM import *"
     ],
     "language": "python",
     "metadata": {},
     "outputs": [],
     "prompt_number": 6
    },
    {
     "cell_type": "code",
     "collapsed": false,
     "input": [
      "def run(method,feat,target,C,eta,e,b,s):\n",
      "    w,cost = np.zeros(D.shape[1]),[]\n",
      "    g = (lambda x,y : .5*(x+y)) if method is not 'batch' else (lambda x,y : x)\n",
      "    f,l,c,app = getCost(D,Y,w,b,C),0,0,cost.append\n",
      "    app(f)\n",
      "    for i in itertools.count(1):\n",
      "        w,b,f,cc = svm(D,Y,w,C,eta,f,b,l,s)\n",
      "        c = g(cc,c)\n",
      "        l = (l+1)%np.divide(D.shape[0]+s-1,s)\n",
      "        app(f)\n",
      "        if (c<e):\n",
      "            break\n",
      "    return w,b,cost"
     ],
     "language": "python",
     "metadata": {},
     "outputs": [],
     "prompt_number": 7
    },
    {
     "cell_type": "code",
     "collapsed": false,
     "input": [
      "D,Y = getData('features.test.txt','target.test.txt')\n",
      "method,feat,target,eta,e,b,s = 'stoch','features.train.txt','target.train.txt',0.0001,0.001,0,1\n",
      "DT,YT = getData(feat,target)\n",
      "shuf=np.random.permutation(D.shape[0])\n",
      "for reg in [1, 10, 50, 100, 200, 300, 400, 500]:\n",
      "    w,b,_ = run(method,DT[shuf,:],YT[shuf],reg,eta,e,b,s)\n",
      "    print np.sum(map(int,[n*(w.dot(D[m,:])+b)<0 for m,n in enumerate(Y)]))/float(len(Y))\n",
      "    \n",
      "    "
     ],
     "language": "python",
     "metadata": {},
     "outputs": [
      {
       "output_type": "stream",
       "stream": "stdout",
       "text": [
        "0.243961352657\n",
        "0.243961352657"
       ]
      },
      {
       "output_type": "stream",
       "stream": "stdout",
       "text": [
        "\n",
        "0.243961352657\n",
        "0.243961352657"
       ]
      },
      {
       "output_type": "stream",
       "stream": "stdout",
       "text": [
        "\n",
        "0.0990338164251"
       ]
      },
      {
       "output_type": "stream",
       "stream": "stdout",
       "text": [
        "\n",
        "0.108695652174"
       ]
      },
      {
       "output_type": "stream",
       "stream": "stdout",
       "text": [
        "\n",
        "0.115942028986"
       ]
      },
      {
       "output_type": "stream",
       "stream": "stdout",
       "text": [
        "\n",
        "0.1038647343"
       ]
      },
      {
       "output_type": "stream",
       "stream": "stdout",
       "text": [
        "\n"
       ]
      }
     ],
     "prompt_number": 8
    },
    {
     "cell_type": "code",
     "collapsed": false,
     "input": [
      "with pyplot.xkcd():\n",
      "    pyplot.xlabel('Regularization')\n",
      "    pyplot.ylabel('Percent Error')\n",
      "    pyplot.title('Reducing Overfitting with Softer Margins')\n",
      "    pyplot.tick_params(axis='both',which='both',bottom='off',top='off',left='off',right='off')\n",
      "    a = [0.243961352657,0.243961352657,0.243961352657,0.243961352657,0.0990338164251,0.108695652174,0.115942028986,0.1038647343]\n",
      "    pyplot.plot([1, 10, 50, 100, 200, 300, 400, 500],a)"
     ],
     "language": "python",
     "metadata": {},
     "outputs": [],
     "prompt_number": 14
    },
    {
     "cell_type": "code",
     "collapsed": false,
     "input": [],
     "language": "python",
     "metadata": {},
     "outputs": []
    }
   ],
   "metadata": {}
  }
 ]
}
